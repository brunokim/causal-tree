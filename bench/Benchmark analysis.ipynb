{
 "cells": [
  {
   "cell_type": "code",
   "execution_count": 147,
   "metadata": {},
   "outputs": [],
   "source": [
    "import numpy as np\n",
    "import scipy as sp\n",
    "import pandas as pd\n",
    "import seaborn as sns\n",
    "from matplotlib import pyplot as plt"
   ]
  },
  {
   "cell_type": "code",
   "execution_count": 148,
   "metadata": {},
   "outputs": [],
   "source": [
    "def read_benchstat_csv(infile):\n",
    "    df = pd.read_csv(infile)\n",
    "    df.columns=['_name', 'time', '_time_sd']\n",
    "\n",
    "    name_parts = df['_name'].str.extract(r'(?P<name>[^/]+)/size=(?P<size>\\d+)-(?P<cpus>\\d+)')\n",
    "    name_parts = name_parts.astype({'size': 'int32', 'cpus': 'int32'})\n",
    "\n",
    "    time_sd = df['_time_sd'].str.extract(r'(\\d+)%', expand=False).astype('float64')\n",
    "    time_sd = time_sd / 100 * df.time\n",
    "    time_sd.name = 'time_sd'\n",
    "    \n",
    "    df = pd.concat([name_parts, df.time, time_sd], axis=1)\n",
    "    return df.set_index(['name', 'size'])"
   ]
  },
  {
   "cell_type": "code",
   "execution_count": 149,
   "metadata": {},
   "outputs": [
    {
     "data": {
      "text/plain": [
       "['./03c422e.csv', './d6683f3.csv', './2521f4e.csv']"
      ]
     },
     "execution_count": 149,
     "metadata": {},
     "output_type": "execute_result"
    }
   ],
   "source": [
    "from glob import glob\n",
    "glob('./*.csv')"
   ]
  },
  {
   "cell_type": "code",
   "execution_count": 156,
   "metadata": {},
   "outputs": [
    {
     "data": {
      "text/html": [
       "<div>\n",
       "<style scoped>\n",
       "    .dataframe tbody tr th:only-of-type {\n",
       "        vertical-align: middle;\n",
       "    }\n",
       "\n",
       "    .dataframe tbody tr th {\n",
       "        vertical-align: top;\n",
       "    }\n",
       "\n",
       "    .dataframe thead th {\n",
       "        text-align: right;\n",
       "    }\n",
       "</style>\n",
       "<table border=\"1\" class=\"dataframe\">\n",
       "  <thead>\n",
       "    <tr style=\"text-align: right;\">\n",
       "      <th></th>\n",
       "      <th></th>\n",
       "      <th>cpus</th>\n",
       "      <th>time</th>\n",
       "      <th>time_sd</th>\n",
       "    </tr>\n",
       "    <tr>\n",
       "      <th>name</th>\n",
       "      <th>size</th>\n",
       "      <th></th>\n",
       "      <th></th>\n",
       "      <th></th>\n",
       "    </tr>\n",
       "  </thead>\n",
       "  <tbody>\n",
       "    <tr>\n",
       "      <th rowspan=\"5\" valign=\"top\">Fork</th>\n",
       "      <th>64</th>\n",
       "      <td>8</td>\n",
       "      <td>627105.0</td>\n",
       "      <td>344907.750</td>\n",
       "    </tr>\n",
       "    <tr>\n",
       "      <th>256</th>\n",
       "      <td>8</td>\n",
       "      <td>716765.0</td>\n",
       "      <td>229364.800</td>\n",
       "    </tr>\n",
       "    <tr>\n",
       "      <th>1024</th>\n",
       "      <td>8</td>\n",
       "      <td>451854.0</td>\n",
       "      <td>347927.580</td>\n",
       "    </tr>\n",
       "    <tr>\n",
       "      <th>4096</th>\n",
       "      <td>8</td>\n",
       "      <td>493873.0</td>\n",
       "      <td>311139.990</td>\n",
       "    </tr>\n",
       "    <tr>\n",
       "      <th>16384</th>\n",
       "      <td>8</td>\n",
       "      <td>879049.0</td>\n",
       "      <td>140647.840</td>\n",
       "    </tr>\n",
       "    <tr>\n",
       "      <th rowspan=\"5\" valign=\"top\">SetCursor</th>\n",
       "      <th>64</th>\n",
       "      <td>8</td>\n",
       "      <td>10670.3</td>\n",
       "      <td>1173.733</td>\n",
       "    </tr>\n",
       "    <tr>\n",
       "      <th>256</th>\n",
       "      <td>8</td>\n",
       "      <td>49541.6</td>\n",
       "      <td>7926.656</td>\n",
       "    </tr>\n",
       "    <tr>\n",
       "      <th>1024</th>\n",
       "      <td>8</td>\n",
       "      <td>233863.0</td>\n",
       "      <td>18709.040</td>\n",
       "    </tr>\n",
       "    <tr>\n",
       "      <th>4096</th>\n",
       "      <td>8</td>\n",
       "      <td>815895.0</td>\n",
       "      <td>65271.600</td>\n",
       "    </tr>\n",
       "    <tr>\n",
       "      <th>16384</th>\n",
       "      <td>8</td>\n",
       "      <td>4600720.0</td>\n",
       "      <td>276043.200</td>\n",
       "    </tr>\n",
       "    <tr>\n",
       "      <th rowspan=\"5\" valign=\"top\">InsertChar</th>\n",
       "      <th>64</th>\n",
       "      <td>8</td>\n",
       "      <td>5408190.0</td>\n",
       "      <td>1027556.100</td>\n",
       "    </tr>\n",
       "    <tr>\n",
       "      <th>256</th>\n",
       "      <td>8</td>\n",
       "      <td>4864100.0</td>\n",
       "      <td>632333.000</td>\n",
       "    </tr>\n",
       "    <tr>\n",
       "      <th>1024</th>\n",
       "      <td>8</td>\n",
       "      <td>4576550.0</td>\n",
       "      <td>183062.000</td>\n",
       "    </tr>\n",
       "    <tr>\n",
       "      <th>4096</th>\n",
       "      <td>8</td>\n",
       "      <td>5288150.0</td>\n",
       "      <td>370170.500</td>\n",
       "    </tr>\n",
       "    <tr>\n",
       "      <th>16384</th>\n",
       "      <td>8</td>\n",
       "      <td>9936670.0</td>\n",
       "      <td>695566.900</td>\n",
       "    </tr>\n",
       "  </tbody>\n",
       "</table>\n",
       "</div>"
      ],
      "text/plain": [
       "                  cpus       time      time_sd\n",
       "name       size                               \n",
       "Fork       64        8   627105.0   344907.750\n",
       "           256       8   716765.0   229364.800\n",
       "           1024      8   451854.0   347927.580\n",
       "           4096      8   493873.0   311139.990\n",
       "           16384     8   879049.0   140647.840\n",
       "SetCursor  64        8    10670.3     1173.733\n",
       "           256       8    49541.6     7926.656\n",
       "           1024      8   233863.0    18709.040\n",
       "           4096      8   815895.0    65271.600\n",
       "           16384     8  4600720.0   276043.200\n",
       "InsertChar 64        8  5408190.0  1027556.100\n",
       "           256       8  4864100.0   632333.000\n",
       "           1024      8  4576550.0   183062.000\n",
       "           4096      8  5288150.0   370170.500\n",
       "           16384     8  9936670.0   695566.900"
      ]
     },
     "execution_count": 156,
     "metadata": {},
     "output_type": "execute_result"
    }
   ],
   "source": [
    "df = read_benchstat_csv('2521f4e.csv')\n",
    "df"
   ]
  },
  {
   "cell_type": "code",
   "execution_count": 151,
   "metadata": {},
   "outputs": [],
   "source": [
    "from matplotlib.ticker import EngFormatter\n",
    "\n",
    "def plot_time_vs_size(size, time_sec, time_sd_sec):\n",
    "    fig, ax = plt.subplots()\n",
    "    ax.grid(True, which='both')\n",
    "\n",
    "    # x axis configuration\n",
    "    logx_min, logx_max = 5, 15\n",
    "    logx_num = logx_max - logx_min + 1\n",
    "    ax.set_xscale('log', basex=2)\n",
    "    ax.set_xticks(np.logspace(logx_min, logx_max, num=logx_num, base=2))\n",
    "    ax.set_xlabel('List size')\n",
    "\n",
    "    # y axis configuration\n",
    "    ax.set_yscale('log')\n",
    "    y_formatter = EngFormatter(unit='s')\n",
    "    ax.yaxis.set_minor_formatter(y_formatter)\n",
    "    ax.yaxis.set_major_formatter(y_formatter)\n",
    "    ax.set_ylabel('Time per operation')\n",
    "\n",
    "    plt.errorbar(size, time_sec, fmt='o', yerr=time_sd_sec)\n",
    "    return ax"
   ]
  },
  {
   "cell_type": "code",
   "execution_count": 157,
   "metadata": {},
   "outputs": [
    {
     "data": {
      "image/png": "[encoded data removed]",
      "text/plain": [
       "<Figure size 432x288 with 1 Axes>"
      ]
     },
     "metadata": {
      "needs_background": "light"
     },
     "output_type": "display_data"
    }
   ],
   "source": [
    "# Analysing fork operation\n",
    "fork = df.xs('Fork')\n",
    "\n",
    "ax = plot_time_vs_size(fork.index, fork.time * 1e-9, fork.time_sd * 1e-9)\n",
    "_ = ax.set_title('Fork')"
   ]
  },
  {
   "cell_type": "code",
   "execution_count": 158,
   "metadata": {},
   "outputs": [
    {
     "data": {
      "text/plain": [
       "[<matplotlib.lines.Line2D at 0x7f92cb019100>]"
      ]
     },
     "execution_count": 158,
     "metadata": {},
     "output_type": "execute_result"
    },
    {
     "data": {
      "image/png": "[encoded data removed]",
      "text/plain": [
       "<Figure size 432x288 with 1 Axes>"
      ]
     },
     "metadata": {
      "needs_background": "light"
     },
     "output_type": "display_data"
    }
   ],
   "source": [
    "# Analysing set cursor operation\n",
    "set_cursor = df.xs('SetCursor')\n",
    "\n",
    "xs = set_cursor.index\n",
    "ax = plot_time_vs_size(xs, set_cursor.time * 1e-9, set_cursor.time_sd * 1e-9)\n",
    "ax.set_title('Set Cursor')\n",
    "\n",
    "demo = np.logspace(6, 8, num=10, base=2)\n",
    "ax.plot(demo, 100e-6 * demo/2**6)      # O(n)\n",
    "ax.plot(demo, 100e-6 * (demo/2**6)**2) # O(n^2)"
   ]
  },
  {
   "cell_type": "code",
   "execution_count": 159,
   "metadata": {},
   "outputs": [
    {
     "data": {
      "image/png": "[encoded data removed]",
      "text/plain": [
       "<Figure size 432x288 with 1 Axes>"
      ]
     },
     "metadata": {
      "needs_background": "light"
     },
     "output_type": "display_data"
    }
   ],
   "source": [
    "# Analysing insert char alone\n",
    "_char = df.xs('InsertChar')\n",
    "\n",
    "ax = plot_time_vs_size(_char.index, _char.time * 1e-9, _char.time_sd * 1e-9)\n",
    "_ = ax.set_title('Insert Char')"
   ]
  },
  {
   "cell_type": "code",
   "execution_count": 160,
   "metadata": {},
   "outputs": [
    {
     "name": "stderr",
     "output_type": "stream",
     "text": [
      "/home/bkim/anaconda3/lib/python3.8/site-packages/pandas/core/series.py:679: RuntimeWarning: invalid value encountered in sqrt\n",
      "  result = getattr(ufunc, method)(*inputs, **kwargs)\n"
     ]
    },
    {
     "data": {
      "image/png": "[encoded data removed]",
      "text/plain": [
       "<Figure size 432x288 with 1 Axes>"
      ]
     },
     "metadata": {
      "needs_background": "light"
     },
     "output_type": "display_data"
    }
   ],
   "source": [
    "# Analysing insert char operation\n",
    "_char = df.xs('InsertChar')\n",
    "\n",
    "# insert_char operation is measured together with fork and set_cursor, so we need to remove their contributions.\n",
    "char_time = _char.time - set_cursor.time - fork.time\n",
    "char_time_sd = np.sqrt(_char.time_sd**2 - set_cursor.time_sd**2 - fork.time_sd**2)\n",
    "\n",
    "ax = plot_time_vs_size(_char.index, char_time * 1e-9, char_time_sd * 1e-9)\n",
    "_ = ax.set_title('Insert Char')"
   ]
  }
 ],
 "metadata": {
  "kernelspec": {
   "display_name": "Python 3",
   "language": "python",
   "name": "python3"
  },
  "language_info": {
   "codemirror_mode": {
    "name": "ipython",
    "version": 3
   },
   "file_extension": ".py",
   "mimetype": "text/x-python",
   "name": "python",
   "nbconvert_exporter": "python",
   "pygments_lexer": "ipython3",
   "version": "3.8.3"
  }
 },
 "nbformat": 4,
 "nbformat_minor": 4
}
