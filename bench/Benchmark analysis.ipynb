{
 "cells": [
  {
   "cell_type": "code",
   "execution_count": 34,
   "metadata": {},
   "outputs": [],
   "source": [
    "import numpy as np\n",
    "import scipy as sp\n",
    "import pandas as pd\n",
    "import seaborn as sns\n",
    "from matplotlib import pyplot as plt"
   ]
  },
  {
   "cell_type": "code",
   "execution_count": 91,
   "metadata": {},
   "outputs": [],
   "source": [
    "def read_benchstat_csv(infile):\n",
    "    df = pd.read_csv(infile)\n",
    "    df.columns=['_name', 'time', '_time_sd']\n",
    "\n",
    "    name_parts = df['_name'].str.extract(r'(?P<name>[^/]+)/size=(?P<size>\\d+)-(?P<cpus>\\d+)')\n",
    "    name_parts = name_parts.astype({'size': 'int32', 'cpus': 'int32'})\n",
    "\n",
    "    time_sd = df['_time_sd'].str.extract(r'(\\d+)%', expand=False).astype('float64')\n",
    "    time_sd = time_sd / 100 * df.time\n",
    "    time_sd.name = 'time_sd'\n",
    "    \n",
    "    df = pd.concat([name_parts, df.time, time_sd], axis=1)\n",
    "    return df.set_index(['name', 'size'])"
   ]
  },
  {
   "cell_type": "code",
   "execution_count": 114,
   "metadata": {},
   "outputs": [
    {
     "data": {
      "text/plain": [
       "['./03c422e.csv', './d6683f3.csv']"
      ]
     },
     "execution_count": 114,
     "metadata": {},
     "output_type": "execute_result"
    }
   ],
   "source": [
    "from glob import glob\n",
    "glob('./*.csv')"
   ]
  },
  {
   "cell_type": "code",
   "execution_count": 117,
   "metadata": {},
   "outputs": [
    {
     "data": {
      "text/html": [
       "<div>\n",
       "<style scoped>\n",
       "    .dataframe tbody tr th:only-of-type {\n",
       "        vertical-align: middle;\n",
       "    }\n",
       "\n",
       "    .dataframe tbody tr th {\n",
       "        vertical-align: top;\n",
       "    }\n",
       "\n",
       "    .dataframe thead th {\n",
       "        text-align: right;\n",
       "    }\n",
       "</style>\n",
       "<table border=\"1\" class=\"dataframe\">\n",
       "  <thead>\n",
       "    <tr style=\"text-align: right;\">\n",
       "      <th></th>\n",
       "      <th></th>\n",
       "      <th>cpus</th>\n",
       "      <th>time</th>\n",
       "      <th>time_sd</th>\n",
       "    </tr>\n",
       "    <tr>\n",
       "      <th>name</th>\n",
       "      <th>size</th>\n",
       "      <th></th>\n",
       "      <th></th>\n",
       "      <th></th>\n",
       "    </tr>\n",
       "  </thead>\n",
       "  <tbody>\n",
       "    <tr>\n",
       "      <th rowspan=\"5\" valign=\"top\">Fork</th>\n",
       "      <th>64</th>\n",
       "      <td>8</td>\n",
       "      <td>1762680.00</td>\n",
       "      <td>52880.4000</td>\n",
       "    </tr>\n",
       "    <tr>\n",
       "      <th>256</th>\n",
       "      <td>8</td>\n",
       "      <td>590528.00</td>\n",
       "      <td>342506.2400</td>\n",
       "    </tr>\n",
       "    <tr>\n",
       "      <th>1024</th>\n",
       "      <td>8</td>\n",
       "      <td>457597.00</td>\n",
       "      <td>343197.7500</td>\n",
       "    </tr>\n",
       "    <tr>\n",
       "      <th>4096</th>\n",
       "      <td>8</td>\n",
       "      <td>521595.00</td>\n",
       "      <td>245149.6500</td>\n",
       "    </tr>\n",
       "    <tr>\n",
       "      <th>16384</th>\n",
       "      <td>8</td>\n",
       "      <td>727144.00</td>\n",
       "      <td>174514.5600</td>\n",
       "    </tr>\n",
       "    <tr>\n",
       "      <th rowspan=\"5\" valign=\"top\">SetCursor</th>\n",
       "      <th>64</th>\n",
       "      <td>8</td>\n",
       "      <td>9044.89</td>\n",
       "      <td>180.8978</td>\n",
       "    </tr>\n",
       "    <tr>\n",
       "      <th>256</th>\n",
       "      <td>8</td>\n",
       "      <td>41059.30</td>\n",
       "      <td>821.1860</td>\n",
       "    </tr>\n",
       "    <tr>\n",
       "      <th>1024</th>\n",
       "      <td>8</td>\n",
       "      <td>188184.00</td>\n",
       "      <td>7527.3600</td>\n",
       "    </tr>\n",
       "    <tr>\n",
       "      <th>4096</th>\n",
       "      <td>8</td>\n",
       "      <td>674742.00</td>\n",
       "      <td>6747.4200</td>\n",
       "    </tr>\n",
       "    <tr>\n",
       "      <th>16384</th>\n",
       "      <td>8</td>\n",
       "      <td>3513130.00</td>\n",
       "      <td>245919.1000</td>\n",
       "    </tr>\n",
       "    <tr>\n",
       "      <th rowspan=\"5\" valign=\"top\">InsertChar</th>\n",
       "      <th>64</th>\n",
       "      <td>8</td>\n",
       "      <td>1813050.00</td>\n",
       "      <td>90652.5000</td>\n",
       "    </tr>\n",
       "    <tr>\n",
       "      <th>256</th>\n",
       "      <td>8</td>\n",
       "      <td>908054.00</td>\n",
       "      <td>127127.5600</td>\n",
       "    </tr>\n",
       "    <tr>\n",
       "      <th>1024</th>\n",
       "      <td>8</td>\n",
       "      <td>920508.00</td>\n",
       "      <td>184101.6000</td>\n",
       "    </tr>\n",
       "    <tr>\n",
       "      <th>4096</th>\n",
       "      <td>8</td>\n",
       "      <td>1429150.00</td>\n",
       "      <td>100040.5000</td>\n",
       "    </tr>\n",
       "    <tr>\n",
       "      <th>16384</th>\n",
       "      <td>8</td>\n",
       "      <td>5224520.00</td>\n",
       "      <td>156735.6000</td>\n",
       "    </tr>\n",
       "  </tbody>\n",
       "</table>\n",
       "</div>"
      ],
      "text/plain": [
       "                  cpus        time      time_sd\n",
       "name       size                                \n",
       "Fork       64        8  1762680.00   52880.4000\n",
       "           256       8   590528.00  342506.2400\n",
       "           1024      8   457597.00  343197.7500\n",
       "           4096      8   521595.00  245149.6500\n",
       "           16384     8   727144.00  174514.5600\n",
       "SetCursor  64        8     9044.89     180.8978\n",
       "           256       8    41059.30     821.1860\n",
       "           1024      8   188184.00    7527.3600\n",
       "           4096      8   674742.00    6747.4200\n",
       "           16384     8  3513130.00  245919.1000\n",
       "InsertChar 64        8  1813050.00   90652.5000\n",
       "           256       8   908054.00  127127.5600\n",
       "           1024      8   920508.00  184101.6000\n",
       "           4096      8  1429150.00  100040.5000\n",
       "           16384     8  5224520.00  156735.6000"
      ]
     },
     "execution_count": 117,
     "metadata": {},
     "output_type": "execute_result"
    }
   ],
   "source": [
    "df = read_benchstat_csv('03c422e.csv')\n",
    "df"
   ]
  },
  {
   "cell_type": "code",
   "execution_count": 124,
   "metadata": {},
   "outputs": [],
   "source": [
    "from matplotlib.ticker import EngFormatter\n",
    "\n",
    "def plot_time_vs_size(size, time_sec, time_sd_sec):\n",
    "    fig, ax = plt.subplots()\n",
    "    ax.grid(True, which='both')\n",
    "\n",
    "    # x axis configuration\n",
    "    logx_min, logx_max = 5, 15\n",
    "    logx_num = logx_max - logx_min + 1\n",
    "    ax.set_xscale('log', basex=2)\n",
    "    ax.set_xticks(np.logspace(logx_min, logx_max, num=logx_num, base=2))\n",
    "    ax.set_xlabel('List size')\n",
    "\n",
    "    # y axis configuration\n",
    "    ax.set_yscale('log')\n",
    "    y_formatter = EngFormatter(unit='s')\n",
    "    ax.yaxis.set_minor_formatter(y_formatter)\n",
    "    ax.yaxis.set_major_formatter(y_formatter)\n",
    "    ax.set_ylabel('Time per operation')\n",
    "\n",
    "    plt.errorbar(size, time_sec, fmt='o', yerr=time_sd_sec)\n",
    "    return ax"
   ]
  },
  {
   "cell_type": "code",
   "execution_count": 125,
   "metadata": {},
   "outputs": [
    {
     "data": {
      "image/png": "[encoded data removed]",
      "text/plain": [
       "<Figure size 432x288 with 1 Axes>"
      ]
     },
     "metadata": {
      "needs_background": "light"
     },
     "output_type": "display_data"
    }
   ],
   "source": [
    "# Analysing fork operation\n",
    "fork = df.xs('Fork')\n",
    "\n",
    "ax = plot_time_vs_size(fork.index, fork.time * 1e-9, fork.time_sd * 1e-9)\n",
    "_ = ax.set_title('Fork')"
   ]
  },
  {
   "cell_type": "code",
   "execution_count": 146,
   "metadata": {},
   "outputs": [
    {
     "data": {
      "text/plain": [
       "[<matplotlib.lines.Line2D at 0x7f92cb6144c0>]"
      ]
     },
     "execution_count": 146,
     "metadata": {},
     "output_type": "execute_result"
    },
    {
     "data": {
      "image/png": "[encoded data removed]",
      "text/plain": [
       "<Figure size 432x288 with 1 Axes>"
      ]
     },
     "metadata": {
      "needs_background": "light"
     },
     "output_type": "display_data"
    }
   ],
   "source": [
    "# Analysing set cursor operation\n",
    "set_cursor = df.xs('SetCursor')\n",
    "\n",
    "xs = set_cursor.index\n",
    "ax = plot_time_vs_size(xs, set_cursor.time * 1e-9, set_cursor.time_sd * 1e-9)\n",
    "ax.set_title('Set Cursor')\n",
    "\n",
    "demo = np.logspace(6, 8, num=10, base=2)\n",
    "ax.plot(demo, 100e-6 * demo/2**6)      # O(n)\n",
    "ax.plot(demo, 100e-6 * (demo/2**6)**2) # O(n^2)"
   ]
  },
  {
   "cell_type": "code",
   "execution_count": 127,
   "metadata": {},
   "outputs": [
    {
     "data": {
      "image/png": "[encoded data removed]",
      "text/plain": [
       "<Figure size 432x288 with 1 Axes>"
      ]
     },
     "metadata": {
      "needs_background": "light"
     },
     "output_type": "display_data"
    }
   ],
   "source": [
    "# Analysing insert char alone\n",
    "_char = df.xs('InsertChar')\n",
    "\n",
    "ax = plot_time_vs_size(_char.index, _char.time * 1e-9, _char.time_sd * 1e-9)\n",
    "_ = ax.set_title('Insert Char')"
   ]
  },
  {
   "cell_type": "code",
   "execution_count": 128,
   "metadata": {},
   "outputs": [
    {
     "data": {
      "image/png": "[encoded data removed]",
      "text/plain": [
       "<Figure size 432x288 with 1 Axes>"
      ]
     },
     "metadata": {
      "needs_background": "light"
     },
     "output_type": "display_data"
    }
   ],
   "source": [
    "# Analysing insert char operation\n",
    "_char = df.xs('InsertChar')\n",
    "\n",
    "# insert_char operation is measured together with fork and set_cursor, so we need to remove their contributions.\n",
    "char_time = _char.time - set_cursor.time - fork.time\n",
    "char_time_sd = np.sqrt(_char.time_sd**2 - set_cursor.time_sd**2 - fork.time_sd**2)\n",
    "\n",
    "ax = plot_time_vs_size(_char.index, char_time * 1e-9, char_time_sd * 1e-9)\n",
    "_ = ax.set_title('Insert Char')"
   ]
  }
 ],
 "metadata": {
  "kernelspec": {
   "display_name": "Python 3",
   "language": "python",
   "name": "python3"
  },
  "language_info": {
   "codemirror_mode": {
    "name": "ipython",
    "version": 3
   },
   "file_extension": ".py",
   "mimetype": "text/x-python",
   "name": "python",
   "nbconvert_exporter": "python",
   "pygments_lexer": "ipython3",
   "version": "3.8.3"
  }
 },
 "nbformat": 4,
 "nbformat_minor": 4
}
